{
 "cells": [
  {
   "cell_type": "markdown",
   "metadata": {},
   "source": [
    "## [作業重點]\n",
    "確保你了解隨機森林模型中每個超參數的意義，並觀察調整超參數對結果的影響"
   ]
  },
  {
   "cell_type": "markdown",
   "metadata": {},
   "source": [
    "## 作業\n",
    "\n",
    "1. 試著調整 RandomForestClassifier(...) 中的參數，並觀察是否會改變結果？\n"
   ]
  },
  {
   "cell_type": "code",
   "execution_count": 16,
   "metadata": {},
   "outputs": [],
   "source": [
    "from sklearn import datasets, metrics\n",
    "from sklearn.ensemble import RandomForestClassifier, RandomForestRegressor\n",
    "from sklearn.model_selection import train_test_split"
   ]
  },
  {
   "cell_type": "code",
   "execution_count": 4,
   "metadata": {},
   "outputs": [],
   "source": [
    "# 讀取鳶尾花資料集\n",
    "iris = datasets.load_iris()\n",
    "\n",
    "# 切分訓練集/測試集\n",
    "x_train, x_test, y_train, y_test = train_test_split(iris.data, iris.target, test_size=0.25, random_state=4)\n",
    "\n",
    "# 建立模型 (使用 10 顆樹，每棵樹的最大深度為 4)\n",
    "clf = RandomForestClassifier(n_estimators=10, max_depth=4)\n",
    "\n",
    "# 訓練模型\n",
    "clf.fit(x_train, y_train)\n",
    "\n",
    "# 預測測試集\n",
    "y_pred = clf.predict(x_test)"
   ]
  },
  {
   "cell_type": "code",
   "execution_count": 5,
   "metadata": {},
   "outputs": [
    {
     "name": "stdout",
     "output_type": "stream",
     "text": [
      "Accuracy:  0.9736842105263158\n"
     ]
    }
   ],
   "source": [
    "acc = metrics.accuracy_score(y_test, y_pred)\n",
    "print(\"Accuracy: \", acc)"
   ]
  },
  {
   "cell_type": "code",
   "execution_count": 6,
   "metadata": {},
   "outputs": [
    {
     "name": "stdout",
     "output_type": "stream",
     "text": [
      "['sepal length (cm)', 'sepal width (cm)', 'petal length (cm)', 'petal width (cm)']\n"
     ]
    }
   ],
   "source": [
    "print(iris.feature_names)"
   ]
  },
  {
   "cell_type": "code",
   "execution_count": 7,
   "metadata": {},
   "outputs": [
    {
     "name": "stdout",
     "output_type": "stream",
     "text": [
      "Feature importance:  [0.11634473 0.02520534 0.46093499 0.39751495]\n"
     ]
    }
   ],
   "source": [
    "print(\"Feature importance: \", clf.feature_importances_)"
   ]
  },
  {
   "cell_type": "markdown",
   "metadata": {},
   "source": [
    "2. 改用其他資料集 (boston, wine)，並與回歸模型與決策樹的結果進行比較"
   ]
  },
  {
   "cell_type": "code",
   "execution_count": 8,
   "metadata": {},
   "outputs": [
    {
     "name": "stdout",
     "output_type": "stream",
     "text": [
      "[0 2 1 0 1 1 0 2 1 1 2 2 0 1 2 1 0 0 2 0 1 0 0 1 1 1 1 1 1 2 0 0 1 0 0 0 2\n",
      " 1 1 2 0 0 1 1 1 0 2 1 2 0 2 2 0 2]\n"
     ]
    }
   ],
   "source": [
    "# 讀取 wine 資料集\n",
    "wine = datasets.load_wine()\n",
    "\n",
    "# 切分訓練集/測試集\n",
    "x_train, x_test, y_train, y_test = train_test_split(wine.data, wine.target, test_size=0.3, random_state=0)\n",
    "\n",
    "# 建立模型 (使用 10 顆樹，每棵樹的最大深度為 4)\n",
    "clf = RandomForestClassifier(n_estimators=10, max_depth=4)\n",
    "\n",
    "# 訓練模型\n",
    "clf.fit(x_train, y_train)\n",
    "\n",
    "# 預測測試集\n",
    "y_pred = clf.predict(x_test)\n",
    "\n",
    "print(y_pred)"
   ]
  },
  {
   "cell_type": "code",
   "execution_count": 9,
   "metadata": {},
   "outputs": [
    {
     "name": "stdout",
     "output_type": "stream",
     "text": [
      "Acuuracy:  0.9814814814814815\n"
     ]
    }
   ],
   "source": [
    "acc = metrics.accuracy_score(y_test, y_pred)\n",
    "print(\"Acuuracy: \", acc)"
   ]
  },
  {
   "cell_type": "code",
   "execution_count": 10,
   "metadata": {},
   "outputs": [
    {
     "name": "stdout",
     "output_type": "stream",
     "text": [
      "['alcohol', 'malic_acid', 'ash', 'alcalinity_of_ash', 'magnesium', 'total_phenols', 'flavanoids', 'nonflavanoid_phenols', 'proanthocyanins', 'color_intensity', 'hue', 'od280/od315_of_diluted_wines', 'proline']\n"
     ]
    }
   ],
   "source": [
    "print(wine.feature_names)"
   ]
  },
  {
   "cell_type": "code",
   "execution_count": 11,
   "metadata": {},
   "outputs": [
    {
     "name": "stdout",
     "output_type": "stream",
     "text": [
      "Feature importance:  [0.12432039 0.02302595 0.01340534 0.00242216 0.01018271 0.06375447\n",
      " 0.07978231 0.00263245 0.02227647 0.24185297 0.04400726 0.16403825\n",
      " 0.20829927]\n"
     ]
    }
   ],
   "source": [
    "print(\"Feature importance: \", clf.feature_importances_)"
   ]
  },
  {
   "cell_type": "code",
   "execution_count": 23,
   "metadata": {},
   "outputs": [
    {
     "name": "stdout",
     "output_type": "stream",
     "text": [
      "[23.58993617 33.7097883  21.04190687 12.03894733 20.3667156  22.47592783\n",
      " 20.3667156  22.47592783 23.54814569 20.3667156   8.8308286  13.22442531\n",
      " 14.33660581 11.35019608 45.66983333 31.10532353 20.3667156  32.4921235\n",
      " 24.55795516 22.47592783 23.58993617 21.04190687 20.3667156  23.58993617\n",
      " 21.29701267 22.76411819 20.3667156  15.94183049 43.56525758 17.29724019\n",
      " 13.64113011 18.872028   20.9386771  21.04190687 22.9296066  18.80399241\n",
      " 11.35019608 33.7097883  13.02398099 14.24815785 23.0150755  21.29701267\n",
      " 22.9296066  14.54836208 24.81608171 22.66275475 18.99498486 16.54977684\n",
      " 14.7171162  26.74738797 18.42383181 17.96346664 20.78299093 41.8952381\n",
      " 15.33756698 18.99498486 20.78299093 20.3667156  31.02989061 18.99739746\n",
      " 23.25629708 20.55354252 30.42484734 26.64557708 17.52933779 26.64557708\n",
      " 18.50228072 17.67847829 13.7586396  20.55354252 20.3667156  22.47592783\n",
      " 24.32632153 30.42484734 32.03194991 11.35019608 42.70507143 20.55354252\n",
      " 22.9296066  20.3667156  26.54104446 18.12056898 27.61404682 42.70507143\n",
      " 42.70507143 23.58993617 21.59067205 14.17097103 23.94225693 15.15137498\n",
      " 20.35420912 13.66684663 23.58993617 28.97804928 22.76038041 22.47592783\n",
      " 11.35019608 23.58993617 15.73040572 20.3667156  22.66275475 20.3667156\n",
      " 27.27158866 21.42636223 26.78390354 21.04190687 10.93289216 22.78728892\n",
      " 22.47592783 22.66275475 32.38970028 12.72997406 17.29724019 18.99498486\n",
      " 17.29724019 20.19668826 11.34341716 20.3667156  11.64398054 47.36970996\n",
      " 28.93675217 12.06017793 18.86723486 20.3667156  21.61318915 16.57946918\n",
      " 32.78071707 17.96346664 22.47592783 32.78071707 12.33273179 11.27597876\n",
      " 14.79209402 20.57924824 13.24047876 32.81884572 20.78299093 14.7171162\n",
      " 27.48995411 10.93289216 11.35019608 20.3667156  30.57982878 24.32632153\n",
      " 23.58993617 19.546528   32.6096235  32.55829016 12.40789702 11.35019608\n",
      " 27.98784252 25.04750391]\n"
     ]
    }
   ],
   "source": [
    "# 讀取 boston 資料集\n",
    "boston = datasets.load_boston()\n",
    "\n",
    "# 切分訓練集/測試集\n",
    "x_train, x_test, y_train, y_test = train_test_split(boston.data, boston.target, test_size=0.3, random_state=0)\n",
    "\n",
    "# 建立模型 (使用 10 顆樹，每棵樹的最大深度為 4)\n",
    "#  RandomForestClassifier  適用於 y_train:label 是 屬於 分類回歸，此 boston 的情況下會出現錯誤 Unknown label type: 'continuous'\n",
    "#clf = RandomForestClassifier(n_estimators=10, max_depth=4)\n",
    "\n",
    "#  改用 RandomForestRegressor\n",
    "clf = RandomForestRegressor(n_estimators=10, max_depth=4)\n",
    "\n",
    "# 訓練模型\n",
    "clf.fit(x_train, y_train)\n",
    "\n",
    "# 預測測試集\n",
    "y_pred = clf.predict(x_test)\n",
    "\n",
    "print(y_pred)"
   ]
  },
  {
   "cell_type": "code",
   "execution_count": 24,
   "metadata": {},
   "outputs": [
    {
     "name": "stdout",
     "output_type": "stream",
     "text": [
      "Mean squared error: 16.79\n"
     ]
    }
   ],
   "source": [
    "# ValueError: continuous is not supported\n",
    "\n",
    "#acc = metrics.accuracy_score(y_test, y_pred)\n",
    "#print(\"Acuuracy: \", acc)\n",
    "\n",
    "# 預測值與實際值的差距，使用 MSE\n",
    "print(\"Mean squared error: %.2f\"\n",
    "      % metrics.mean_squared_error(y_test, y_pred))"
   ]
  },
  {
   "cell_type": "code",
   "execution_count": 25,
   "metadata": {},
   "outputs": [
    {
     "name": "stdout",
     "output_type": "stream",
     "text": [
      "['CRIM' 'ZN' 'INDUS' 'CHAS' 'NOX' 'RM' 'AGE' 'DIS' 'RAD' 'TAX' 'PTRATIO'\n",
      " 'B' 'LSTAT']\n"
     ]
    }
   ],
   "source": [
    "print(boston.feature_names)\n"
   ]
  },
  {
   "cell_type": "code",
   "execution_count": 20,
   "metadata": {},
   "outputs": [
    {
     "name": "stdout",
     "output_type": "stream",
     "text": [
      "Feature importance:  [3.13885508e-02 1.69789908e-04 9.92781807e-03 1.87268743e-03\n",
      " 1.61487498e-02 5.36957301e-01 6.04204143e-03 2.71054288e-02\n",
      " 8.10284543e-04 5.45231977e-03 1.54274141e-02 5.94949305e-03\n",
      " 3.42748122e-01]\n"
     ]
    }
   ],
   "source": [
    "print(\"Feature importance: \", clf.feature_importances_)"
   ]
  },
  {
   "cell_type": "code",
   "execution_count": null,
   "metadata": {},
   "outputs": [],
   "source": []
  }
 ],
 "metadata": {
  "kernelspec": {
   "display_name": "Python 3",
   "language": "python",
   "name": "python3"
  },
  "language_info": {
   "codemirror_mode": {
    "name": "ipython",
    "version": 3
   },
   "file_extension": ".py",
   "mimetype": "text/x-python",
   "name": "python",
   "nbconvert_exporter": "python",
   "pygments_lexer": "ipython3",
   "version": "3.7.3"
  }
 },
 "nbformat": 4,
 "nbformat_minor": 2
}
