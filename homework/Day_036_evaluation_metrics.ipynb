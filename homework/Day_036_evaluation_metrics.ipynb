{
 "cells": [
  {
   "cell_type": "markdown",
   "metadata": {},
   "source": [
    "## [教學目標]\n",
    "學習 sklearn 中，各種評估指標的使用與意義"
   ]
  },
  {
   "cell_type": "markdown",
   "metadata": {},
   "source": [
    "## [範例重點]\n",
    "注意觀察各指標的數值範圍，以及輸入函數中的資料格式"
   ]
  },
  {
   "cell_type": "code",
   "execution_count": 1,
   "metadata": {},
   "outputs": [],
   "source": [
    "from sklearn import metrics, datasets\n",
    "from sklearn.linear_model import LinearRegression\n",
    "from sklearn.model_selection import train_test_split\n",
    "\n",
    "import matplotlib.pyplot as plt\n",
    "from matplotlib.pylab import rcParams\n",
    "import numpy as np\n",
    "%matplotlib inline"
   ]
  },
  {
   "cell_type": "code",
   "execution_count": 3,
   "metadata": {},
   "outputs": [
    {
     "name": "stdout",
     "output_type": "stream",
     "text": [
      "[[ 0.93128012]\n",
      " [ 0.08704707]\n",
      " [-1.05771093]\n",
      " [ 0.31424733]\n",
      " [-0.47917424]\n",
      " [ 0.64768854]\n",
      " [-0.46341769]\n",
      " [ 0.54256004]\n",
      " [ 0.61167629]\n",
      " [ 1.0035329 ]\n",
      " [ 0.8219025 ]\n",
      " [ 1.53803657]\n",
      " [ 0.73846658]\n",
      " [-0.21967189]\n",
      " [-0.8084936 ]\n",
      " [ 0.09176078]\n",
      " [-1.95967012]\n",
      " [ 0.51326743]\n",
      " [ 1.03099952]\n",
      " [-2.6197451 ]\n",
      " [ 0.49671415]\n",
      " [ 0.09707755]\n",
      " [-0.46572975]\n",
      " [ 0.91540212]\n",
      " [ 1.56464366]\n",
      " [ 1.46564877]\n",
      " [-0.60063869]\n",
      " [-0.03582604]\n",
      " [-0.60170661]\n",
      " [-1.19620662]\n",
      " [ 0.35711257]\n",
      " [ 0.37569802]\n",
      " [ 0.26105527]\n",
      " [-0.5297602 ]\n",
      " [-0.90802408]\n",
      " [ 0.19686124]\n",
      " [-0.29900735]\n",
      " [ 0.36163603]\n",
      " [ 0.82254491]\n",
      " [-0.29169375]\n",
      " [ 0.36139561]\n",
      " [-0.676922  ]\n",
      " [ 1.52302986]\n",
      " [-0.51827022]\n",
      " [-0.23415337]\n",
      " [-0.39210815]\n",
      " [-0.3011037 ]\n",
      " [-0.64511975]\n",
      " [ 0.32875111]\n",
      " [ 0.2088636 ]\n",
      " [-0.32766215]\n",
      " [ 0.00511346]\n",
      " [-0.23413696]\n",
      " [ 1.47789404]\n",
      " [-0.38508228]\n",
      " [ 0.34361829]\n",
      " [ 0.33126343]\n",
      " [-0.18565898]\n",
      " [-0.23458713]\n",
      " [-1.98756891]\n",
      " [ 0.32408397]\n",
      " [-0.2257763 ]\n",
      " [-1.10633497]\n",
      " [-0.70205309]\n",
      " [-1.46351495]\n",
      " [ 0.96864499]\n",
      " [-1.72491783]\n",
      " [-1.91328024]\n",
      " [-0.56228753]\n",
      " [ 0.76743473]\n",
      " [ 0.81252582]\n",
      " [-1.4123037 ]\n",
      " [-1.47852199]\n",
      " [-1.22084365]\n",
      " [-0.83921752]\n",
      " [ 1.57921282]\n",
      " [ 0.97554513]\n",
      " [ 0.24196227]\n",
      " [ 0.29612028]\n",
      " [-0.54438272]\n",
      " [-1.76304016]\n",
      " [ 0.11092259]\n",
      " [ 0.17136828]\n",
      " [-1.32818605]\n",
      " [ 1.05712223]\n",
      " [-0.11564828]\n",
      " [-0.46947439]\n",
      " [-0.01349722]\n",
      " [-1.01283112]\n",
      " [-0.1382643 ]\n",
      " [-1.15099358]\n",
      " [ 1.35624003]\n",
      " [ 0.0675282 ]\n",
      " [-0.50175704]\n",
      " [-0.46063877]\n",
      " [ 1.85227818]\n",
      " [-1.42474819]\n",
      " [-0.71984421]\n",
      " [-0.07201012]\n",
      " [-0.30921238]]\n",
      "[ 4.36355659e+01 -1.84604382e+00 -4.04573676e+01  1.20809149e+01\n",
      " -1.90961069e+01  2.88469775e+01 -2.36336917e+01  1.59530347e+01\n",
      "  2.47085745e+01  3.80705783e+01  3.48905623e+01  6.92728967e+01\n",
      "  3.29697517e+01 -4.33181842e+00 -3.93730337e+01  7.34488997e+00\n",
      " -8.32609444e+01  2.08752601e+01  3.72748887e+01 -1.12821608e+02\n",
      "  1.91513295e+01  3.55559417e+00 -2.34104171e+01  3.43578291e+01\n",
      "  6.90720901e+01  6.25370761e+01 -1.94504986e+01  2.02526684e-01\n",
      " -2.86384593e+01 -5.47984003e+01  1.70581117e+01  2.12181115e+01\n",
      "  8.84487303e+00 -2.19448536e+01 -4.02007609e+01  3.32571045e+00\n",
      " -1.55680188e+01  1.20903679e+01  4.11603495e+01 -6.60631506e+00\n",
      "  1.81649597e+01 -2.95534330e+01  6.29086984e+01 -2.12581075e+01\n",
      " -8.91406418e+00 -1.21847411e+01 -1.32121491e+01 -3.14497206e+01\n",
      "  1.76311531e+01  8.75477365e+00 -1.05687794e+01  3.05387827e+00\n",
      " -1.78623939e+01  7.26266122e+01 -5.91710723e+00  1.85184479e+01\n",
      "  1.62978635e+01 -4.36000424e+00 -9.42200958e+00 -8.39216915e+01\n",
      "  1.89831676e+01 -9.45367181e+00 -4.54803071e+01 -3.11143175e+01\n",
      " -6.24572911e+01  4.33936710e+01 -7.46366975e+01 -8.15928597e+01\n",
      " -2.34547509e+01  3.76494050e+01  3.81131114e+01 -6.06371034e+01\n",
      " -6.32681923e+01 -4.74649996e+01 -2.98322756e+01  6.21458533e+01\n",
      "  4.55886102e+01  1.05091622e+01  8.65619971e+00 -2.58244783e+01\n",
      " -7.14854433e+01  7.72259437e+00  3.49433689e+00 -5.28436002e+01\n",
      "  4.63499321e+01 -2.34509369e+00 -1.96705807e+01 -2.53711894e+00\n",
      " -4.03656690e+01 -6.92785149e+00 -5.12510498e+01  6.19113737e+01\n",
      "  5.88788892e+00 -2.10820097e+01 -2.06545493e+01  7.76237093e+01\n",
      " -6.40697273e+01 -3.35891388e+01 -6.77774491e-02 -1.63754494e+01]\n"
     ]
    }
   ],
   "source": [
    "X, y = datasets.make_regression(n_features=1, random_state=42, noise=4) # 生成資料\n",
    "print(X)\n",
    "print(y)"
   ]
  },
  {
   "cell_type": "markdown",
   "metadata": {},
   "source": [
    "## 回歸問題\n",
    "常見的評估指標有\n",
    "- MAE\n",
    "- MSE\n",
    "- R-square"
   ]
  },
  {
   "cell_type": "markdown",
   "metadata": {},
   "source": [
    "我們隨機生成(X, y)資料，然後使用線性回歸模型做預測，再使用 MAE, MSE, R-square 評估"
   ]
  },
  {
   "cell_type": "code",
   "execution_count": 2,
   "metadata": {},
   "outputs": [
    {
     "name": "stdout",
     "output_type": "stream",
     "text": [
      "MAE:  2.841797252565566\n",
      "MSE:  12.48868006739824\n",
      "R-square:  0.9916581036260311\n"
     ]
    }
   ],
   "source": [
    "X, y = datasets.make_regression(n_features=1, random_state=42, noise=4) # 生成資料\n",
    "model = LinearRegression() # 建立回歸模型\n",
    "model.fit(X, y) # 將資料放進模型訓練\n",
    "prediction = model.predict(X) # 進行預測\n",
    "mae = metrics.mean_absolute_error(prediction, y) # 使用 MAE 評估\n",
    "mse = metrics.mean_squared_error(prediction, y) # 使用 MSE 評估\n",
    "r2 = metrics.r2_score(prediction, y) # 使用 r-square 評估\n",
    "print(\"MAE: \", mae)\n",
    "print(\"MSE: \", mse)\n",
    "print(\"R-square: \", r2)"
   ]
  },
  {
   "cell_type": "markdown",
   "metadata": {},
   "source": [
    "## 分類問題\n",
    "常見的評估指標有\n",
    "- AUC\n",
    "- F1-Score (Precision, Recall)"
   ]
  },
  {
   "cell_type": "code",
   "execution_count": 4,
   "metadata": {},
   "outputs": [],
   "source": [
    "cancer = datasets.load_breast_cancer() # 我們使用 sklearn 內含的乳癌資料集\n",
    "X_train, X_test, y_train, y_test = train_test_split(cancer.data, cancer.target, test_size=50, random_state=0)"
   ]
  },
  {
   "cell_type": "code",
   "execution_count": 5,
   "metadata": {},
   "outputs": [
    {
     "name": "stdout",
     "output_type": "stream",
     "text": [
      "[0 1 1 1 1 1 1 1 1 1 1 1 1 1 1 0 1 0 0 0 0 0 1 1 0 1 1 0 1 0 1 0 1 0 1 0 1\n",
      " 0 1 0 0 1 0 1 1 0 1 1 1 0]\n"
     ]
    }
   ],
   "source": [
    "print(y_test) # 測試集中的 label"
   ]
  },
  {
   "cell_type": "code",
   "execution_count": 6,
   "metadata": {},
   "outputs": [],
   "source": [
    "y_pred = np.random.random((50,)) # 我們先隨機生成 50 筆預測值，範圍都在 0~1 之間，代表機率值"
   ]
  },
  {
   "cell_type": "code",
   "execution_count": 7,
   "metadata": {},
   "outputs": [
    {
     "name": "stdout",
     "output_type": "stream",
     "text": [
      "[0.21177947 0.01340244 0.92965166 0.95051429 0.37702329 0.57793619\n",
      " 0.6377404  0.64091874 0.00162127 0.05680723 0.59904067 0.77589247\n",
      " 0.94170174 0.94816232 0.82369535 0.07918006 0.99288992 0.41375376\n",
      " 0.61359841 0.2780932  0.31385202 0.91630796 0.42781023 0.62518244\n",
      " 0.42712953 0.32104203 0.32913767 0.85542783 0.63601625 0.54606412\n",
      " 0.79105818 0.31964467 0.87398701 0.33077186 0.78882256 0.97107474\n",
      " 0.32815971 0.70374378 0.18918399 0.20459858 0.91474259 0.52892208\n",
      " 0.44284719 0.12362692 0.6809466  0.63302869 0.26146895 0.15191805\n",
      " 0.62420437 0.87914069]\n"
     ]
    }
   ],
   "source": [
    "print(y_pred)"
   ]
  },
  {
   "cell_type": "markdown",
   "metadata": {},
   "source": [
    "### AUC"
   ]
  },
  {
   "cell_type": "code",
   "execution_count": 8,
   "metadata": {},
   "outputs": [
    {
     "name": "stdout",
     "output_type": "stream",
     "text": [
      "AUC:  0.5263157894736842\n"
     ]
    }
   ],
   "source": [
    "auc = metrics.roc_auc_score(y_test, y_pred) # 使用 roc_auc_score 來評估。 **這邊特別注意 y_pred 必須要放機率值進去!**\n",
    "print(\"AUC: \", auc) # 得到結果約 0.5，與亂猜的結果相近，因為我們的預測值是用隨機生成的"
   ]
  },
  {
   "cell_type": "markdown",
   "metadata": {},
   "source": [
    "## F1-Score"
   ]
  },
  {
   "cell_type": "code",
   "execution_count": 9,
   "metadata": {},
   "outputs": [
    {
     "name": "stdout",
     "output_type": "stream",
     "text": [
      "F1-Score:  0.6440677966101694\n",
      "Precision:  0.6785714285714286\n",
      "Recall:  0.6129032258064516\n"
     ]
    }
   ],
   "source": [
    "threshold = 0.5 \n",
    "y_pred_binarized = np.where(y_pred>threshold, 1, 0) # 使用 np.where 函數, 將 y_pred > 0.5 的值變為 1，小於 0.5 的為 0\n",
    "f1 = metrics.f1_score(y_test, y_pred_binarized) # 使用 F1-Score 評估\n",
    "precision = metrics.precision_score(y_test, y_pred_binarized) # 使用 Precision 評估\n",
    "recall  = metrics.recall_score(y_test, y_pred_binarized) # 使用 recall 評估\n",
    "print(\"F1-Score: \", f1) \n",
    "print(\"Precision: \", precision)\n",
    "print(\"Recall: \", recall)"
   ]
  },
  {
   "cell_type": "markdown",
   "metadata": {},
   "source": [
    "## [作業重點]\n",
    "了解 F1-score 的公式意義，並試著理解程式碼"
   ]
  },
  {
   "cell_type": "markdown",
   "metadata": {},
   "source": [
    "## 作業\n",
    "請參考 F1-score 的公式與[原始碼](https://github.com/scikit-learn/scikit-learn/blob/bac89c2/sklearn/metrics/classification.py#L620)，試著寫出 F2-Score 的計算函數"
   ]
  },
  {
   "cell_type": "code",
   "execution_count": null,
   "metadata": {},
   "outputs": [],
   "source": []
  }
 ],
 "metadata": {
  "kernelspec": {
   "display_name": "Python 3",
   "language": "python",
   "name": "python3"
  },
  "language_info": {
   "codemirror_mode": {
    "name": "ipython",
    "version": 3
   },
   "file_extension": ".py",
   "mimetype": "text/x-python",
   "name": "python",
   "nbconvert_exporter": "python",
   "pygments_lexer": "ipython3",
   "version": "3.7.3"
  }
 },
 "nbformat": 4,
 "nbformat_minor": 2
}
