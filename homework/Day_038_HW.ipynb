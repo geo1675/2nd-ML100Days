{
 "cells": [
  {
   "cell_type": "markdown",
   "metadata": {},
   "source": [
    "## [作業重點]\n",
    "使用 Sklearn 中的線性迴歸模型，來訓練各種資料集，務必了解送進去模型訓練的**資料型態**為何，也請了解模型中各項參數的意義"
   ]
  },
  {
   "cell_type": "markdown",
   "metadata": {},
   "source": [
    "## 作業\n",
    "試著使用 sklearn datasets 的其他資料集 (wine, boston, ...)，來訓練自己的線性迴歸模型。"
   ]
  },
  {
   "cell_type": "markdown",
   "metadata": {},
   "source": [
    "### HINT: 注意 label 的型態，確定資料集的目標是分類還是回歸，在使用正確的模型訓練！"
   ]
  },
  {
   "cell_type": "code",
   "execution_count": 1,
   "metadata": {},
   "outputs": [],
   "source": [
    "import numpy as np\n",
    "import matplotlib.pyplot as plt\n",
    "from sklearn import datasets, linear_model\n",
    "from sklearn.model_selection import train_test_split\n",
    "from sklearn.metrics import mean_squared_error, r2_score, accuracy_score\n",
    "\n",
    "import warnings\n",
    "warnings.filterwarnings('ignore')"
   ]
  },
  {
   "cell_type": "code",
   "execution_count": 2,
   "metadata": {},
   "outputs": [
    {
     "name": "stdout",
     "output_type": "stream",
     "text": [
      "(124, 13)\n"
     ]
    },
    {
     "data": {
      "text/plain": [
       "array([0, 1, 1, 1, 2, 2, 0, 2, 1, 1, 1, 0, 2, 1, 1, 0, 1, 1, 1, 0, 1, 2,\n",
       "       0, 0, 1, 1, 2, 2, 2, 1, 0, 0, 2, 0, 0, 1, 0, 1, 0, 1, 2, 2, 1, 1,\n",
       "       1, 1, 1, 0, 2, 2, 1, 1, 1, 0, 0, 1, 0, 0, 0, 1, 1, 2, 2, 0, 2, 1,\n",
       "       2, 0, 2, 2, 1, 0, 1, 0, 0, 1, 1, 0, 1, 1, 2, 2, 0, 1, 0, 2, 1, 2,\n",
       "       1, 1, 1, 1, 0, 2, 0, 2, 1, 0, 2, 0, 1, 0, 2, 0, 0, 2, 0, 1, 0, 0,\n",
       "       2, 0, 0, 1, 1, 1, 0, 2, 0, 1, 1, 1, 2, 1])"
      ]
     },
     "execution_count": 2,
     "metadata": {},
     "output_type": "execute_result"
    }
   ],
   "source": [
    "wine = datasets.load_wine()\n",
    "\n",
    "# 切分訓練集/測試集\n",
    "Wx_train, Wx_test, Wy_train, Wy_test = train_test_split(wine.data, wine.target, test_size=0.3, random_state=4)\n",
    "print(Wx_train.shape)\n",
    "Wy_train"
   ]
  },
  {
   "cell_type": "code",
   "execution_count": 3,
   "metadata": {},
   "outputs": [
    {
     "name": "stdout",
     "output_type": "stream",
     "text": [
      "Accuracy:  0.9444444444444444\n"
     ]
    }
   ],
   "source": [
    "# 建立模型\n",
    "logreg = linear_model.LogisticRegression()\n",
    "\n",
    "# 訓練模型\n",
    "logreg.fit(Wx_train, Wy_train)\n",
    "\n",
    "# 預測測試集\n",
    "Wy_pred = logreg.predict(Wx_test)\n",
    "\n",
    "acc = accuracy_score(Wy_test, Wy_pred)\n",
    "print(\"Accuracy: \", acc)"
   ]
  },
  {
   "cell_type": "code",
   "execution_count": 4,
   "metadata": {},
   "outputs": [
    {
     "name": "stdout",
     "output_type": "stream",
     "text": [
      "(354, 13)\n",
      "[[5.05900e-02 0.00000e+00 4.49000e+00 ... 1.85000e+01 3.96900e+02\n",
      "  9.62000e+00]\n",
      " [4.30100e-02 8.00000e+01 1.91000e+00 ... 2.20000e+01 3.82800e+02\n",
      "  8.05000e+00]\n",
      " [4.07710e-01 0.00000e+00 6.20000e+00 ... 1.74000e+01 3.95240e+02\n",
      "  2.14600e+01]\n",
      " ...\n",
      " [9.39063e+00 0.00000e+00 1.81000e+01 ... 2.02000e+01 3.96900e+02\n",
      "  2.28800e+01]\n",
      " [8.44700e-02 0.00000e+00 4.05000e+00 ... 1.66000e+01 3.93230e+02\n",
      "  9.64000e+00]\n",
      " [9.29900e-02 0.00000e+00 2.56500e+01 ... 1.91000e+01 3.78090e+02\n",
      "  1.79300e+01]]\n"
     ]
    },
    {
     "data": {
      "text/plain": [
       "array([23.9, 18.2, 21.7, 13.5, 50. , 23.1, 48.8, 13.8, 20.1, 50. , 34.9,\n",
       "        8.4, 15.2, 23. , 24.7, 25.3, 17.2, 50. , 22.9, 20.2, 17.4, 19.5,\n",
       "       18.5, 14. , 22.6, 14.1, 15.6, 46. , 20.5, 13.5, 10.4, 21.4, 21.6,\n",
       "       23.2, 23. , 17.6, 16.1,  5. ,  8.3, 27.5, 18.7, 21.7, 30.7,  5. ,\n",
       "       11.3,  7. , 32.9, 14.6, 12. , 28.1, 18. ,  5.6, 23.6, 24.7, 22.5,\n",
       "       17.7, 13.1, 23.1, 25. , 14.9,  9.7, 22.8, 22. , 23.6, 14.3, 18.8,\n",
       "       19.9, 13.6, 19.4, 16.8, 20. , 43.1, 27.9, 20.1, 19. , 19.2, 21.7,\n",
       "       33.1, 50. , 33.2, 20.1, 21.1,  8.8, 12.3, 14.5, 23.8, 18.7, 21.8,\n",
       "       21.9, 21.7, 17.1, 23.1, 36.1, 28.2, 11.5, 19. , 22. , 10.5, 21.4,\n",
       "       16.5, 20.6, 23.3, 23.5, 15. , 26.5, 50. , 10.5, 17.5, 13.6, 17.2,\n",
       "       19.1, 16.4, 20.6, 20.9, 30.1, 20.7, 22.2, 24.6, 25.2, 37.9, 20.1,\n",
       "       29.6, 18.7, 23. , 22.9, 24.6, 24.8, 20.8, 22.4, 18.2, 14.4, 23.2,\n",
       "       13. , 19.7, 21.2, 21.7, 24. , 22. , 20.6, 11.9, 24.3, 23.8, 22.8,\n",
       "       13.3, 25. , 21. , 20.4, 33.1, 48.3, 14.5, 36. , 22.6, 18.4, 18.9,\n",
       "       12.6, 15.2, 24.1, 29.9, 23.9, 31.6, 11.7, 20.3, 16.6, 22.2, 26.6,\n",
       "       36.2, 28.4, 20.8, 15.4, 50. , 18.1, 23.1, 21.5, 13.1, 21.8,  8.5,\n",
       "       15.6, 26.2, 32.2,  9.6, 31.6, 17.8, 34.7, 20. , 21. , 22.7, 28.7,\n",
       "       23.9, 35.4, 13.2, 18.3, 13.1, 23.1, 20.6,  7. , 13.4, 24.1, 30.1,\n",
       "       20.3, 15.6, 26.6, 15. , 37.2, 27.1, 24.4, 17.8, 19.8, 10.2, 23.1,\n",
       "       37.3, 23.2, 19.1, 19.6, 38.7, 25. , 23.7, 22.8, 16.2, 20.3, 24.3,\n",
       "       21.2, 19.3, 20.6, 21.4, 14.4, 19.9, 16.2, 22.5, 19.1, 17.8, 30.1,\n",
       "       14.8, 35.2, 29. , 25.1, 21.5,  8.3, 22. , 44.8, 24.5, 34.9, 17.2,\n",
       "       33.8, 19.6, 14.1,  8.4, 33.3, 23.4, 21.4, 18.9, 21.2,  7.2, 27.1,\n",
       "       14.5, 10.4, 21.4, 14.1, 10.2, 24.3, 18.6, 18.9, 10.9, 24.4, 19.3,\n",
       "       25. , 36.5, 20.5, 20.4, 19.6, 27.9, 21.1, 26.6, 10.8, 36.2, 34.9,\n",
       "       31.5, 31.7, 34.6, 17.8, 29.8, 35.1, 17.1, 13.4, 37. , 15.2, 27.5,\n",
       "       18.5, 19.6, 23.2, 32. , 23.4, 28.7, 22. , 13.8, 19.7, 20.9, 17.1,\n",
       "       28.4, 43.8, 22.5, 50. , 50. , 33.4, 17.9, 25. , 22.3, 50. ,  9.5,\n",
       "       10.2, 23.7, 23.8,  7.5, 23.9, 18.4, 20.4, 19.4, 17.4, 12.7, 13.8,\n",
       "       22. , 29.1, 24.7, 20.8, 24.1, 15.4, 19.6, 32.5, 24. ,  7.4, 25. ,\n",
       "       15.7, 21.7, 21.2, 11.7, 22.7, 16.8, 21.6, 23.9, 22.1, 20.6, 19.4,\n",
       "       22.6, 29.6, 23.3, 13.8, 33.4, 12.7, 22.2, 25. ,  7.2, 30.3, 12.8,\n",
       "       22.6, 20.5])"
      ]
     },
     "execution_count": 4,
     "metadata": {},
     "output_type": "execute_result"
    }
   ],
   "source": [
    "\n",
    "\n",
    "boston = datasets.load_boston()\n",
    "\n",
    "Bx_train, Bx_test, By_train, By_test = train_test_split(boston.data, boston.target, test_size=0.3, random_state=4)\n",
    "print(Bx_train.shape)\n",
    "print(Bx_train)\n",
    "By_train"
   ]
  },
  {
   "cell_type": "code",
   "execution_count": 5,
   "metadata": {},
   "outputs": [
    {
     "name": "stdout",
     "output_type": "stream",
     "text": [
      "Coefficients:  [-1.22569795e-01  5.56776996e-02 -8.83428230e-03  4.69344849e+00\n",
      " -1.44357828e+01  3.28008033e+00 -3.44778157e-03 -1.55214419e+00\n",
      "  3.26249618e-01 -1.40665500e-02 -8.03274915e-01  9.35368715e-03\n",
      " -5.23477529e-01]\n",
      "Mean squared error: 30.05\n"
     ]
    }
   ],
   "source": [
    "# 建立一個線性回歸模型\n",
    "regr = linear_model.LinearRegression()\n",
    "\n",
    "# 將訓練資料丟進去模型訓練\n",
    "regr.fit(Bx_train, By_train)\n",
    "\n",
    "# 將測試資料丟進模型得到預測結果\n",
    "By_pred = regr.predict(Bx_test)\n",
    "\n",
    "# 可以看回歸模型的參數值\n",
    "print('Coefficients: ', regr.coef_)\n",
    "\n",
    "# 預測值與實際值的差距，使用 MSE\n",
    "print(\"Mean squared error: %.2f\"\n",
    "      % mean_squared_error(By_test, By_pred))"
   ]
  },
  {
   "cell_type": "code",
   "execution_count": 6,
   "metadata": {},
   "outputs": [
    {
     "data": {
      "text/plain": [
       "\"\\nplt.scatter(Bx_test, By_test,  color='black')\\nplt.plot(Bx_test, By_pred, color='blue', linewidth=3)\\nplt.show()\\n\""
      ]
     },
     "execution_count": 6,
     "metadata": {},
     "output_type": "execute_result"
    }
   ],
   "source": [
    "# 畫出回歸模型與實際資料的分佈\n",
    "'''\n",
    "plt.scatter(Bx_test, By_test,  color='black')\n",
    "plt.plot(Bx_test, By_pred, color='blue', linewidth=3)\n",
    "plt.show()\n",
    "'''"
   ]
  },
  {
   "cell_type": "code",
   "execution_count": 7,
   "metadata": {},
   "outputs": [
    {
     "data": {
      "text/plain": [
       "array([0, 0, 0, 1, 1, 1, 1, 1, 1, 0, 1, 0, 1, 1, 1, 0, 1, 1, 1, 0, 0, 1,\n",
       "       1, 1, 0, 0, 1, 1, 0, 1, 1, 0, 1, 0, 1, 0, 1, 1, 1, 1, 1, 0, 1, 1,\n",
       "       1, 0, 1, 1, 0, 1, 0, 1, 0, 1, 0, 1, 1, 0, 1, 1, 0, 0, 0, 0, 0, 1,\n",
       "       1, 0, 0, 1, 1, 1, 0, 1, 0, 1, 1, 0, 1, 0, 0, 1, 0, 1, 0, 0, 0, 1,\n",
       "       1, 0, 1, 1, 1, 0, 1, 0, 1, 1, 1, 0, 1, 0, 0, 1, 1, 1, 1, 1, 1, 0,\n",
       "       1, 1, 0, 1, 1, 0, 1, 1, 0, 1, 1, 1, 1, 1, 0, 0, 1, 0, 1, 1, 1, 0,\n",
       "       1, 0, 1, 0, 1, 1, 1, 1, 0, 1, 1, 0, 1, 1, 1, 0, 1, 1, 0, 0, 1, 1,\n",
       "       1, 1, 1, 1, 0, 0, 1, 1, 1, 0, 1, 0, 1, 1, 1, 1, 1, 1, 1, 1, 1, 1,\n",
       "       0, 1, 1, 0, 1, 0, 1, 1, 0, 1, 0, 1, 0, 0, 1, 0, 0, 0, 0, 0, 0, 1,\n",
       "       1, 1, 1, 0, 0, 1, 0, 1, 1, 1, 0, 1, 0, 0, 1, 1, 1, 0, 1, 0, 1, 0,\n",
       "       0, 1, 0, 1, 1, 1, 0, 1, 1, 1, 0, 1, 1, 1, 0, 0, 0, 1, 0, 1, 1, 0,\n",
       "       1, 0, 1, 1, 1, 1, 1, 1, 1, 0, 0, 1, 0, 0, 1, 0, 1, 1, 0, 1, 0, 1,\n",
       "       0, 0, 1, 1, 1, 1, 1, 1, 1, 1, 0, 1, 1, 1, 1, 0, 1, 1, 1, 0, 0, 1,\n",
       "       1, 0, 0, 0, 0, 0, 1, 0, 0, 1, 1, 0, 1, 0, 1, 1, 0, 0, 1, 1, 1, 0,\n",
       "       0, 1, 1, 0, 0, 0, 1, 0, 0, 1, 1, 0, 1, 1, 0, 0, 1, 1, 0, 0, 0, 1,\n",
       "       0, 1, 0, 1, 0, 1, 1, 1, 1, 1, 0, 1, 1, 0, 0, 0, 1, 0, 1, 1, 1, 1,\n",
       "       0, 1, 1, 1, 0, 1, 0, 1, 1, 0, 0, 1, 0, 1, 1, 1, 0, 1, 1, 1, 0, 1,\n",
       "       0, 0, 0, 0, 1, 0, 1, 1, 0, 1, 0, 1, 0, 1, 0, 1, 1, 1, 0, 1, 1, 1,\n",
       "       1, 0])"
      ]
     },
     "execution_count": 7,
     "metadata": {},
     "output_type": "execute_result"
    }
   ],
   "source": [
    "breast_cancer = datasets.load_breast_cancer()\n",
    "\n",
    "BCx_train, BCx_test, BCy_train, BCy_test = train_test_split(breast_cancer.data, breast_cancer.target, test_size=0.3, random_state=4)\n",
    "\n",
    "BCy_train"
   ]
  },
  {
   "cell_type": "code",
   "execution_count": 8,
   "metadata": {},
   "outputs": [
    {
     "name": "stdout",
     "output_type": "stream",
     "text": [
      "Accuracy:  0.9181286549707602\n"
     ]
    }
   ],
   "source": [
    "# 建立模型\n",
    "logreg = linear_model.LogisticRegression()\n",
    "\n",
    "# 訓練模型\n",
    "logreg.fit(BCx_train, BCy_train)\n",
    "\n",
    "# 預測測試集\n",
    "BCy_pred = logreg.predict(BCx_test)\n",
    "\n",
    "acc = accuracy_score(BCy_test, BCy_pred)\n",
    "print(\"Accuracy: \", acc)"
   ]
  },
  {
   "cell_type": "code",
   "execution_count": null,
   "metadata": {},
   "outputs": [],
   "source": []
  }
 ],
 "metadata": {
  "kernelspec": {
   "display_name": "Python 3",
   "language": "python",
   "name": "python3"
  },
  "language_info": {
   "codemirror_mode": {
    "name": "ipython",
    "version": 3
   },
   "file_extension": ".py",
   "mimetype": "text/x-python",
   "name": "python",
   "nbconvert_exporter": "python",
   "pygments_lexer": "ipython3",
   "version": "3.7.3"
  }
 },
 "nbformat": 4,
 "nbformat_minor": 2
}
