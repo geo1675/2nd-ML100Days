{
 "cells": [
  {
   "cell_type": "markdown",
   "metadata": {},
   "source": [
    "## [教學重點]\n",
    "學習使用 sklearn 中的 linear regression 模型，並理解各項參數的意義"
   ]
  },
  {
   "cell_type": "markdown",
   "metadata": {},
   "source": [
    "## [範例重點]\n",
    "觀察丟進模型訓練的資料格式，輸入 linear regression 與 Logistic regression 的資料有甚麼不同?"
   ]
  },
  {
   "cell_type": "markdown",
   "metadata": {},
   "source": [
    "## import 需要的套件"
   ]
  },
  {
   "cell_type": "code",
   "execution_count": 1,
   "metadata": {},
   "outputs": [],
   "source": [
    "import numpy as np\n",
    "import matplotlib.pyplot as plt\n",
    "from sklearn import datasets, linear_model\n",
    "from sklearn.model_selection import train_test_split\n",
    "from sklearn.metrics import mean_squared_error, r2_score, accuracy_score"
   ]
  },
  {
   "cell_type": "markdown",
   "metadata": {},
   "source": [
    "### Linear regssion"
   ]
  },
  {
   "cell_type": "code",
   "execution_count": 8,
   "metadata": {},
   "outputs": [
    {
     "name": "stdout",
     "output_type": "stream",
     "text": [
      "Data shape:  (442, 1)\n"
     ]
    }
   ],
   "source": [
    "# 讀取糖尿病資料集\n",
    "diabetes = datasets.load_diabetes()\n",
    "\n",
    "# 為方便視覺化，我們只使用資料集中的 1 個 feature (column)\n",
    "X = diabetes.data[:, np.newaxis, 2]\n",
    "print(\"Data shape: \", X.shape) # 可以看見有 442 筆資料與我們取出的其中一個 feature\n",
    "\n",
    "# 切分訓練集/測試集\n",
    "x_train, x_test, y_train, y_test = train_test_split(X, diabetes.target, test_size=0.1, random_state=4)\n",
    "\n",
    "# 建立一個線性回歸模型\n",
    "regr = linear_model.LinearRegression()\n",
    "\n",
    "# 將訓練資料丟進去模型訓練\n",
    "regr.fit(x_train, y_train)\n",
    "\n",
    "# 將測試資料丟進模型得到預測結果\n",
    "y_pred = regr.predict(x_test)"
   ]
  },
  {
   "cell_type": "code",
   "execution_count": 9,
   "metadata": {},
   "outputs": [
    {
     "data": {
      "text/plain": [
       "array([111., 168.,  78., 293., 172.,  71.,  94., 262.,  99.,  65., 232.,\n",
       "       125., 101., 202., 237.,  74., 128., 128., 336.,  87., 122.,  65.,\n",
       "       292., 248.,  48.,  95., 184., 185., 192., 206., 268., 118., 139.,\n",
       "       202., 141., 200., 265., 172., 202.,  52.,  70., 232., 150.,  93.,\n",
       "       173., 120.,  65., 332., 107.,  84.,  48.,  87.,  53., 158.,  71.,\n",
       "       121., 244., 131., 152.,  72., 118., 210., 140., 170.,  49., 262.,\n",
       "        61.,  53.,  52.,  63., 181., 103., 277., 235.,  97.,  88., 197.,\n",
       "       152., 187.,  92., 150.,  75., 131., 104., 160., 127., 243.,  40.,\n",
       "        61., 179.,  53., 109.,  49., 281., 257., 306., 115.,  88., 252.,\n",
       "       283.,  79., 200., 275.,  96., 259.,  77., 103.,  42.,  60., 246.,\n",
       "       110., 310., 111., 147., 190., 196.,  91.,  95., 265., 274., 116.,\n",
       "       116.,  83., 122., 270., 230., 275., 310.,  67., 104., 280., 166.,\n",
       "        94., 243., 164.,  90.,  85., 195., 177., 221., 102., 233., 249.,\n",
       "        90.,  72., 214., 144.,  60., 270., 220.,  68., 123.,  45., 129.,\n",
       "       182., 174., 127., 124., 257.,  47.,  88., 189.,  71., 242., 178.,\n",
       "       272.,  68., 190., 219.,  93., 233., 230., 297., 185., 138., 181.,\n",
       "       321., 248., 264., 101., 281., 107., 308., 225., 102.,  71.,  53.,\n",
       "       263., 168.,  83., 281.,  75., 150., 273.,  55., 128., 163., 191.,\n",
       "       261., 178., 275., 109., 124., 148., 144.,  91.,  52., 110.,  78.,\n",
       "       245.,  59., 131., 200., 276., 179.,  90., 245.,  89.,  98., 131.,\n",
       "       102.,  72.,  43., 253.,  81.,  51.,  37., 121., 173., 137.,  71.,\n",
       "       198., 135., 200.,  51., 272., 214., 182., 186., 215., 156., 132.,\n",
       "       108., 142., 141., 265., 283.,  97.,  94., 341., 229.,  25., 109.,\n",
       "       191., 178., 258.,  85.,  50.,  31.,  60.,  55., 101., 151.,  63.,\n",
       "       155.,  96., 135., 248., 216., 140., 136., 279., 263., 146., 114.,\n",
       "        97., 113., 220., 175., 200.,  84., 317., 171., 109.,  55.,  74.,\n",
       "       220.,  85., 241., 246.,  67., 288., 198.,  97.,  77.,  66., 100.,\n",
       "        54.,  39., 158.,  42.,  69.,  72., 104., 161., 310., 252.,  89.,\n",
       "        59.,  58.,  42., 183.,  96.,  77., 182., 303.,  78.,  59., 145.,\n",
       "       225., 144., 170.,  84.,  96., 141., 277.,  64.,  90.,  72., 154.,\n",
       "       142., 242., 113., 200., 199., 104., 292.,  68., 252., 258.,  88.,\n",
       "       237., 143., 111., 296., 275., 259., 155., 153., 162.,  92., 202.,\n",
       "       197.,  63., 206., 212.,  80., 217.,  47., 268., 113., 242., 142.,\n",
       "        85., 129., 168., 220.,  86.,  52.,  39., 126.,  49., 185., 151.,\n",
       "       201.,  59.,  99.,  55., 259., 214.,  48., 163., 180.,  90.,  81.,\n",
       "       311.,  91., 170.,  69.,  44., 134., 281., 219., 129., 132., 151.,\n",
       "       180.])"
      ]
     },
     "execution_count": 9,
     "metadata": {},
     "output_type": "execute_result"
    }
   ],
   "source": [
    "y_train"
   ]
  },
  {
   "cell_type": "code",
   "execution_count": 10,
   "metadata": {},
   "outputs": [
    {
     "name": "stdout",
     "output_type": "stream",
     "text": [
      "Coefficients:  [934.05431907]\n",
      "Mean squared error: 2569.69\n"
     ]
    }
   ],
   "source": [
    "# 可以看回歸模型的參數值\n",
    "print('Coefficients: ', regr.coef_)\n",
    "\n",
    "# 預測值與實際值的差距，使用 MSE\n",
    "print(\"Mean squared error: %.2f\"\n",
    "      % mean_squared_error(y_test, y_pred))"
   ]
  },
  {
   "cell_type": "code",
   "execution_count": 11,
   "metadata": {},
   "outputs": [
    {
     "data": {
      "image/png": "[encoded data removed]",
      "text/plain": [
       "<Figure size 432x288 with 1 Axes>"
      ]
     },
     "metadata": {
      "needs_background": "light"
     },
     "output_type": "display_data"
    }
   ],
   "source": [
    "# 畫出回歸模型與實際資料的分佈\n",
    "plt.scatter(x_test, y_test,  color='black')\n",
    "plt.plot(x_test, y_pred, color='blue', linewidth=3)\n",
    "plt.show()"
   ]
  },
  {
   "cell_type": "markdown",
   "metadata": {},
   "source": [
    "### Logistics regression"
   ]
  },
  {
   "cell_type": "code",
   "execution_count": 13,
   "metadata": {},
   "outputs": [],
   "source": [
    "import warnings\n",
    "warnings.filterwarnings('ignore')\n",
    "\n",
    "# 讀取鳶尾花資料集\n",
    "iris = datasets.load_iris()\n",
    "\n",
    "# 切分訓練集/測試集\n",
    "x_train, x_test, y_train, y_test = train_test_split(iris.data, iris.target, test_size=0.1, random_state=4)\n",
    "\n",
    "# 建立模型\n",
    "logreg = linear_model.LogisticRegression()\n",
    "\n",
    "# 訓練模型\n",
    "logreg.fit(x_train, y_train)\n",
    "\n",
    "# 預測測試集\n",
    "y_pred = logreg.predict(x_test)"
   ]
  },
  {
   "cell_type": "code",
   "execution_count": 14,
   "metadata": {},
   "outputs": [
    {
     "data": {
      "text/plain": [
       "array([0, 1, 0, 0, 2, 0, 2, 1, 0, 0, 0, 0, 0, 0, 2, 1, 0, 2, 0, 1, 2, 2,\n",
       "       1, 1, 0, 2, 0, 1, 0, 2, 0, 0, 1, 1, 2, 0, 1, 2, 2, 1, 1, 0, 1, 2,\n",
       "       1, 0, 1, 0, 1, 2, 1, 2, 1, 0, 2, 2, 0, 1, 2, 0, 2, 1, 2, 1, 0, 2,\n",
       "       1, 2, 0, 2, 1, 2, 1, 2, 1, 1, 2, 1, 1, 2, 1, 1, 0, 2, 0, 1, 0, 1,\n",
       "       1, 1, 1, 0, 2, 2, 1, 1, 1, 0, 0, 2, 2, 0, 0, 0, 2, 0, 0, 2, 2, 1,\n",
       "       0, 0, 0, 2, 1, 0, 0, 2, 1, 2, 0, 0, 2, 1, 1, 1, 2, 2, 1, 2, 1, 1,\n",
       "       2, 2, 2])"
      ]
     },
     "execution_count": 14,
     "metadata": {},
     "output_type": "execute_result"
    }
   ],
   "source": [
    "y_train"
   ]
  },
  {
   "cell_type": "code",
   "execution_count": 7,
   "metadata": {},
   "outputs": [
    {
     "name": "stdout",
     "output_type": "stream",
     "text": [
      "Accuracy:  0.8666666666666667\n"
     ]
    }
   ],
   "source": [
    "acc = accuracy_score(y_test, y_pred)\n",
    "print(\"Accuracy: \", acc)"
   ]
  },
  {
   "cell_type": "markdown",
   "metadata": {},
   "source": [
    "## [作業重點]\n",
    "了解其他資料集的使用方法，如何將資料正確地送進模型訓練"
   ]
  },
  {
   "cell_type": "markdown",
   "metadata": {},
   "source": [
    "## 練習時間\n",
    "試著使用 sklearn datasets 的其他資料集 (wine, boston, ...)，來訓練自己的線性迴歸模型。"
   ]
  },
  {
   "cell_type": "code",
   "execution_count": 8,
   "metadata": {},
   "outputs": [],
   "source": [
    "wine = datasets.load_wine()\n",
    "boston = datasets.load_boston()\n",
    "breast_cancer = datasets.load_breast_cancer()"
   ]
  },
  {
   "cell_type": "markdown",
   "metadata": {},
   "source": [
    "### HINT: 注意 label 的型態，確定資料集的目標是分類還是回歸，在使用正確的模型訓練！"
   ]
  },
  {
   "cell_type": "code",
   "execution_count": null,
   "metadata": {},
   "outputs": [],
   "source": []
  }
 ],
 "metadata": {
  "kernelspec": {
   "display_name": "Python 3",
   "language": "python",
   "name": "python3"
  },
  "language_info": {
   "codemirror_mode": {
    "name": "ipython",
    "version": 3
   },
   "file_extension": ".py",
   "mimetype": "text/x-python",
   "name": "python",
   "nbconvert_exporter": "python",
   "pygments_lexer": "ipython3",
   "version": "3.7.3"
  }
 },
 "nbformat": 4,
 "nbformat_minor": 2
}
